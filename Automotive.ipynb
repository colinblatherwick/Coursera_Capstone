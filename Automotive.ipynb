{
 "cells": [
  {
   "cell_type": "code",
   "execution_count": 4,
   "metadata": {},
   "outputs": [],
   "source": [
    "# import python libraries\n",
    "import pandas as pd\n",
    "import matplotlib.pyplot as plt\n",
    "import seaborn as sns\n",
    "%matplotlib inline "
   ]
  },
  {
   "cell_type": "code",
   "execution_count": 5,
   "metadata": {},
   "outputs": [],
   "source": [
    "# Read file 1 and assign it to variable \"df\"\n",
    "df=pd.read_csv('table1.csv')\n",
    "# Read file 2 and assign it to variable \"df2\"\n",
    "df2=pd.read_csv('table2.csv')\n",
    "# Read file 3 and assign it to variable \"df3\"\n",
    "df3=pd.read_csv('table3.csv')"
   ]
  },
  {
   "cell_type": "code",
   "execution_count": 6,
   "metadata": {},
   "outputs": [
    {
     "data": {
      "text/html": [
       "<div>\n",
       "<style scoped>\n",
       "    .dataframe tbody tr th:only-of-type {\n",
       "        vertical-align: middle;\n",
       "    }\n",
       "\n",
       "    .dataframe tbody tr th {\n",
       "        vertical-align: top;\n",
       "    }\n",
       "\n",
       "    .dataframe thead th {\n",
       "        text-align: right;\n",
       "    }\n",
       "</style>\n",
       "<table border=\"1\" class=\"dataframe\">\n",
       "  <thead>\n",
       "    <tr style=\"text-align: right;\">\n",
       "      <th></th>\n",
       "      <th>Model</th>\n",
       "      <th>Manufacturer</th>\n",
       "      <th>Brand Origin</th>\n",
       "      <th>1999</th>\n",
       "      <th>2009</th>\n",
       "      <th>2018</th>\n",
       "      <th>Engine</th>\n",
       "      <th>Cylinders</th>\n",
       "      <th>Aspiration</th>\n",
       "      <th>Doors</th>\n",
       "      <th>Type</th>\n",
       "      <th>Wheelbase</th>\n",
       "    </tr>\n",
       "  </thead>\n",
       "  <tbody>\n",
       "    <tr>\n",
       "      <th>0</th>\n",
       "      <td>Ford Fiesta</td>\n",
       "      <td>Ford</td>\n",
       "      <td>United States of America</td>\n",
       "      <td>99830</td>\n",
       "      <td>117296</td>\n",
       "      <td>95892</td>\n",
       "      <td>1.0</td>\n",
       "      <td>3</td>\n",
       "      <td>Turbo</td>\n",
       "      <td>5</td>\n",
       "      <td>Supermini</td>\n",
       "      <td>2493</td>\n",
       "    </tr>\n",
       "    <tr>\n",
       "      <th>1</th>\n",
       "      <td>Volkswagen Golf</td>\n",
       "      <td>Volkswagen</td>\n",
       "      <td>Germany</td>\n",
       "      <td>63715</td>\n",
       "      <td>57187</td>\n",
       "      <td>64829</td>\n",
       "      <td>1.0</td>\n",
       "      <td>3</td>\n",
       "      <td>Turbo</td>\n",
       "      <td>5</td>\n",
       "      <td>Hatchback</td>\n",
       "      <td>2636</td>\n",
       "    </tr>\n",
       "    <tr>\n",
       "      <th>2</th>\n",
       "      <td>Vauxhall Corsa</td>\n",
       "      <td>Vauxhall</td>\n",
       "      <td>United Kingdom</td>\n",
       "      <td>86779</td>\n",
       "      <td>84478</td>\n",
       "      <td>52915</td>\n",
       "      <td>1.2</td>\n",
       "      <td>3</td>\n",
       "      <td>Natural</td>\n",
       "      <td>5</td>\n",
       "      <td>Supermini</td>\n",
       "      <td>2538</td>\n",
       "    </tr>\n",
       "    <tr>\n",
       "      <th>3</th>\n",
       "      <td>Nissan Qashqai</td>\n",
       "      <td>Nissan</td>\n",
       "      <td>Japan</td>\n",
       "      <td>0</td>\n",
       "      <td>30554</td>\n",
       "      <td>50546</td>\n",
       "      <td>1.2</td>\n",
       "      <td>4</td>\n",
       "      <td>Turbo</td>\n",
       "      <td>5</td>\n",
       "      <td>Compact SUV</td>\n",
       "      <td>2646</td>\n",
       "    </tr>\n",
       "    <tr>\n",
       "      <th>4</th>\n",
       "      <td>Ford Focus</td>\n",
       "      <td>Ford</td>\n",
       "      <td>United States of America</td>\n",
       "      <td>103228</td>\n",
       "      <td>93517</td>\n",
       "      <td>50492</td>\n",
       "      <td>1.0</td>\n",
       "      <td>3</td>\n",
       "      <td>Turbo</td>\n",
       "      <td>5</td>\n",
       "      <td>Hatchback</td>\n",
       "      <td>2700</td>\n",
       "    </tr>\n",
       "  </tbody>\n",
       "</table>\n",
       "</div>"
      ],
      "text/plain": [
       "             Model Manufacturer              Brand Origin    1999    2009  \\\n",
       "0      Ford Fiesta         Ford  United States of America   99830  117296   \n",
       "1  Volkswagen Golf   Volkswagen                   Germany   63715   57187   \n",
       "2   Vauxhall Corsa     Vauxhall            United Kingdom   86779   84478   \n",
       "3   Nissan Qashqai       Nissan                     Japan       0   30554   \n",
       "4       Ford Focus         Ford  United States of America  103228   93517   \n",
       "\n",
       "    2018  Engine  Cylinders Aspiration  Doors         Type  Wheelbase  \n",
       "0  95892     1.0          3      Turbo      5    Supermini       2493  \n",
       "1  64829     1.0          3      Turbo      5    Hatchback       2636  \n",
       "2  52915     1.2          3    Natural      5    Supermini       2538  \n",
       "3  50546     1.2          4      Turbo      5  Compact SUV       2646  \n",
       "4  50492     1.0          3      Turbo      5    Hatchback       2700  "
      ]
     },
     "execution_count": 6,
     "metadata": {},
     "output_type": "execute_result"
    }
   ],
   "source": [
    "# Read first five rows\n",
    "df.head(5)"
   ]
  },
  {
   "cell_type": "code",
   "execution_count": 7,
   "metadata": {},
   "outputs": [
    {
     "data": {
      "text/plain": [
       "Model            object\n",
       "Manufacturer     object\n",
       "Brand Origin     object\n",
       "1999              int64\n",
       "2009              int64\n",
       "2018              int64\n",
       "Engine          float64\n",
       "Cylinders         int64\n",
       "Aspiration       object\n",
       "Doors             int64\n",
       "Type             object\n",
       "Wheelbase         int64\n",
       "dtype: object"
      ]
     },
     "execution_count": 7,
     "metadata": {},
     "output_type": "execute_result"
    }
   ],
   "source": [
    "# Show data types\n",
    "df.dtypes"
   ]
  },
  {
   "cell_type": "code",
   "execution_count": 8,
   "metadata": {},
   "outputs": [
    {
     "data": {
      "text/html": [
       "<div>\n",
       "<style scoped>\n",
       "    .dataframe tbody tr th:only-of-type {\n",
       "        vertical-align: middle;\n",
       "    }\n",
       "\n",
       "    .dataframe tbody tr th {\n",
       "        vertical-align: top;\n",
       "    }\n",
       "\n",
       "    .dataframe thead th {\n",
       "        text-align: right;\n",
       "    }\n",
       "</style>\n",
       "<table border=\"1\" class=\"dataframe\">\n",
       "  <thead>\n",
       "    <tr style=\"text-align: right;\">\n",
       "      <th></th>\n",
       "      <th>Model</th>\n",
       "      <th>Manufacturer</th>\n",
       "      <th>Brand Origin</th>\n",
       "      <th>1999</th>\n",
       "      <th>2009</th>\n",
       "      <th>2018</th>\n",
       "      <th>Engine</th>\n",
       "      <th>Cylinders</th>\n",
       "      <th>Aspiration</th>\n",
       "      <th>Doors</th>\n",
       "      <th>Type</th>\n",
       "      <th>Wheelbase</th>\n",
       "    </tr>\n",
       "  </thead>\n",
       "  <tbody>\n",
       "    <tr>\n",
       "      <th>count</th>\n",
       "      <td>39</td>\n",
       "      <td>39</td>\n",
       "      <td>39</td>\n",
       "      <td>39.000000</td>\n",
       "      <td>39.000000</td>\n",
       "      <td>39.000000</td>\n",
       "      <td>39.000000</td>\n",
       "      <td>39.000000</td>\n",
       "      <td>39</td>\n",
       "      <td>39.000000</td>\n",
       "      <td>39</td>\n",
       "      <td>39.000000</td>\n",
       "    </tr>\n",
       "    <tr>\n",
       "      <th>unique</th>\n",
       "      <td>39</td>\n",
       "      <td>17</td>\n",
       "      <td>7</td>\n",
       "      <td>NaN</td>\n",
       "      <td>NaN</td>\n",
       "      <td>NaN</td>\n",
       "      <td>NaN</td>\n",
       "      <td>NaN</td>\n",
       "      <td>2</td>\n",
       "      <td>NaN</td>\n",
       "      <td>6</td>\n",
       "      <td>NaN</td>\n",
       "    </tr>\n",
       "    <tr>\n",
       "      <th>top</th>\n",
       "      <td>Rover 400</td>\n",
       "      <td>Vauxhall</td>\n",
       "      <td>Germany</td>\n",
       "      <td>NaN</td>\n",
       "      <td>NaN</td>\n",
       "      <td>NaN</td>\n",
       "      <td>NaN</td>\n",
       "      <td>NaN</td>\n",
       "      <td>Natural</td>\n",
       "      <td>NaN</td>\n",
       "      <td>Supermini</td>\n",
       "      <td>NaN</td>\n",
       "    </tr>\n",
       "    <tr>\n",
       "      <th>freq</th>\n",
       "      <td>1</td>\n",
       "      <td>5</td>\n",
       "      <td>9</td>\n",
       "      <td>NaN</td>\n",
       "      <td>NaN</td>\n",
       "      <td>NaN</td>\n",
       "      <td>NaN</td>\n",
       "      <td>NaN</td>\n",
       "      <td>22</td>\n",
       "      <td>NaN</td>\n",
       "      <td>15</td>\n",
       "      <td>NaN</td>\n",
       "    </tr>\n",
       "    <tr>\n",
       "      <th>mean</th>\n",
       "      <td>NaN</td>\n",
       "      <td>NaN</td>\n",
       "      <td>NaN</td>\n",
       "      <td>30665.846154</td>\n",
       "      <td>26142.153846</td>\n",
       "      <td>20950.974359</td>\n",
       "      <td>1.271795</td>\n",
       "      <td>3.641026</td>\n",
       "      <td>NaN</td>\n",
       "      <td>4.948718</td>\n",
       "      <td>NaN</td>\n",
       "      <td>2620.897436</td>\n",
       "    </tr>\n",
       "    <tr>\n",
       "      <th>std</th>\n",
       "      <td>NaN</td>\n",
       "      <td>NaN</td>\n",
       "      <td>NaN</td>\n",
       "      <td>34109.086253</td>\n",
       "      <td>27727.414392</td>\n",
       "      <td>23874.300791</td>\n",
       "      <td>0.222366</td>\n",
       "      <td>0.537400</td>\n",
       "      <td>NaN</td>\n",
       "      <td>0.320256</td>\n",
       "      <td>NaN</td>\n",
       "      <td>125.552840</td>\n",
       "    </tr>\n",
       "    <tr>\n",
       "      <th>min</th>\n",
       "      <td>NaN</td>\n",
       "      <td>NaN</td>\n",
       "      <td>NaN</td>\n",
       "      <td>0.000000</td>\n",
       "      <td>0.000000</td>\n",
       "      <td>0.000000</td>\n",
       "      <td>0.900000</td>\n",
       "      <td>2.000000</td>\n",
       "      <td>NaN</td>\n",
       "      <td>3.000000</td>\n",
       "      <td>NaN</td>\n",
       "      <td>2300.000000</td>\n",
       "    </tr>\n",
       "    <tr>\n",
       "      <th>25%</th>\n",
       "      <td>NaN</td>\n",
       "      <td>NaN</td>\n",
       "      <td>NaN</td>\n",
       "      <td>0.000000</td>\n",
       "      <td>0.000000</td>\n",
       "      <td>0.000000</td>\n",
       "      <td>1.050000</td>\n",
       "      <td>3.000000</td>\n",
       "      <td>NaN</td>\n",
       "      <td>5.000000</td>\n",
       "      <td>NaN</td>\n",
       "      <td>2534.000000</td>\n",
       "    </tr>\n",
       "    <tr>\n",
       "      <th>50%</th>\n",
       "      <td>NaN</td>\n",
       "      <td>NaN</td>\n",
       "      <td>NaN</td>\n",
       "      <td>33100.000000</td>\n",
       "      <td>25039.000000</td>\n",
       "      <td>24666.000000</td>\n",
       "      <td>1.200000</td>\n",
       "      <td>4.000000</td>\n",
       "      <td>NaN</td>\n",
       "      <td>5.000000</td>\n",
       "      <td>NaN</td>\n",
       "      <td>2640.000000</td>\n",
       "    </tr>\n",
       "    <tr>\n",
       "      <th>75%</th>\n",
       "      <td>NaN</td>\n",
       "      <td>NaN</td>\n",
       "      <td>NaN</td>\n",
       "      <td>50611.000000</td>\n",
       "      <td>33786.000000</td>\n",
       "      <td>34083.500000</td>\n",
       "      <td>1.450000</td>\n",
       "      <td>4.000000</td>\n",
       "      <td>NaN</td>\n",
       "      <td>5.000000</td>\n",
       "      <td>NaN</td>\n",
       "      <td>2695.000000</td>\n",
       "    </tr>\n",
       "    <tr>\n",
       "      <th>max</th>\n",
       "      <td>NaN</td>\n",
       "      <td>NaN</td>\n",
       "      <td>NaN</td>\n",
       "      <td>103228.000000</td>\n",
       "      <td>117296.000000</td>\n",
       "      <td>95892.000000</td>\n",
       "      <td>1.600000</td>\n",
       "      <td>4.000000</td>\n",
       "      <td>NaN</td>\n",
       "      <td>5.000000</td>\n",
       "      <td>NaN</td>\n",
       "      <td>2851.000000</td>\n",
       "    </tr>\n",
       "  </tbody>\n",
       "</table>\n",
       "</div>"
      ],
      "text/plain": [
       "            Model Manufacturer Brand Origin           1999           2009  \\\n",
       "count          39           39           39      39.000000      39.000000   \n",
       "unique         39           17            7            NaN            NaN   \n",
       "top     Rover 400     Vauxhall      Germany            NaN            NaN   \n",
       "freq            1            5            9            NaN            NaN   \n",
       "mean          NaN          NaN          NaN   30665.846154   26142.153846   \n",
       "std           NaN          NaN          NaN   34109.086253   27727.414392   \n",
       "min           NaN          NaN          NaN       0.000000       0.000000   \n",
       "25%           NaN          NaN          NaN       0.000000       0.000000   \n",
       "50%           NaN          NaN          NaN   33100.000000   25039.000000   \n",
       "75%           NaN          NaN          NaN   50611.000000   33786.000000   \n",
       "max           NaN          NaN          NaN  103228.000000  117296.000000   \n",
       "\n",
       "                2018     Engine  Cylinders Aspiration      Doors       Type  \\\n",
       "count      39.000000  39.000000  39.000000         39  39.000000         39   \n",
       "unique           NaN        NaN        NaN          2        NaN          6   \n",
       "top              NaN        NaN        NaN    Natural        NaN  Supermini   \n",
       "freq             NaN        NaN        NaN         22        NaN         15   \n",
       "mean    20950.974359   1.271795   3.641026        NaN   4.948718        NaN   \n",
       "std     23874.300791   0.222366   0.537400        NaN   0.320256        NaN   \n",
       "min         0.000000   0.900000   2.000000        NaN   3.000000        NaN   \n",
       "25%         0.000000   1.050000   3.000000        NaN   5.000000        NaN   \n",
       "50%     24666.000000   1.200000   4.000000        NaN   5.000000        NaN   \n",
       "75%     34083.500000   1.450000   4.000000        NaN   5.000000        NaN   \n",
       "max     95892.000000   1.600000   4.000000        NaN   5.000000        NaN   \n",
       "\n",
       "          Wheelbase  \n",
       "count     39.000000  \n",
       "unique          NaN  \n",
       "top             NaN  \n",
       "freq            NaN  \n",
       "mean    2620.897436  \n",
       "std      125.552840  \n",
       "min     2300.000000  \n",
       "25%     2534.000000  \n",
       "50%     2640.000000  \n",
       "75%     2695.000000  \n",
       "max     2851.000000  "
      ]
     },
     "execution_count": 8,
     "metadata": {},
     "output_type": "execute_result"
    }
   ],
   "source": [
    "# Run desciptive analysis\n",
    "df.describe(include = \"all\")"
   ]
  },
  {
   "cell_type": "code",
   "execution_count": 9,
   "metadata": {},
   "outputs": [],
   "source": [
    "# drop all cars not sold in 1999\n",
    "df1999 = df.dropna(subset=['1999'])"
   ]
  },
  {
   "cell_type": "code",
   "execution_count": 10,
   "metadata": {},
   "outputs": [
    {
     "data": {
      "text/html": [
       "<div>\n",
       "<style scoped>\n",
       "    .dataframe tbody tr th:only-of-type {\n",
       "        vertical-align: middle;\n",
       "    }\n",
       "\n",
       "    .dataframe tbody tr th {\n",
       "        vertical-align: top;\n",
       "    }\n",
       "\n",
       "    .dataframe thead th {\n",
       "        text-align: right;\n",
       "    }\n",
       "</style>\n",
       "<table border=\"1\" class=\"dataframe\">\n",
       "  <thead>\n",
       "    <tr style=\"text-align: right;\">\n",
       "      <th></th>\n",
       "      <th>Model</th>\n",
       "      <th>Manufacturer</th>\n",
       "      <th>Brand Origin</th>\n",
       "      <th>1999</th>\n",
       "      <th>2009</th>\n",
       "      <th>2018</th>\n",
       "      <th>Engine</th>\n",
       "      <th>Cylinders</th>\n",
       "      <th>Aspiration</th>\n",
       "      <th>Doors</th>\n",
       "      <th>Type</th>\n",
       "      <th>Wheelbase</th>\n",
       "    </tr>\n",
       "  </thead>\n",
       "  <tbody>\n",
       "    <tr>\n",
       "      <th>0</th>\n",
       "      <td>Ford Fiesta</td>\n",
       "      <td>Ford</td>\n",
       "      <td>United States of America</td>\n",
       "      <td>99830</td>\n",
       "      <td>117296</td>\n",
       "      <td>95892</td>\n",
       "      <td>1.0</td>\n",
       "      <td>3</td>\n",
       "      <td>Turbo</td>\n",
       "      <td>5</td>\n",
       "      <td>Supermini</td>\n",
       "      <td>2493</td>\n",
       "    </tr>\n",
       "    <tr>\n",
       "      <th>1</th>\n",
       "      <td>Volkswagen Golf</td>\n",
       "      <td>Volkswagen</td>\n",
       "      <td>Germany</td>\n",
       "      <td>63715</td>\n",
       "      <td>57187</td>\n",
       "      <td>64829</td>\n",
       "      <td>1.0</td>\n",
       "      <td>3</td>\n",
       "      <td>Turbo</td>\n",
       "      <td>5</td>\n",
       "      <td>Hatchback</td>\n",
       "      <td>2636</td>\n",
       "    </tr>\n",
       "    <tr>\n",
       "      <th>2</th>\n",
       "      <td>Vauxhall Corsa</td>\n",
       "      <td>Vauxhall</td>\n",
       "      <td>United Kingdom</td>\n",
       "      <td>86779</td>\n",
       "      <td>84478</td>\n",
       "      <td>52915</td>\n",
       "      <td>1.2</td>\n",
       "      <td>3</td>\n",
       "      <td>Natural</td>\n",
       "      <td>5</td>\n",
       "      <td>Supermini</td>\n",
       "      <td>2538</td>\n",
       "    </tr>\n",
       "    <tr>\n",
       "      <th>3</th>\n",
       "      <td>Nissan Qashqai</td>\n",
       "      <td>Nissan</td>\n",
       "      <td>Japan</td>\n",
       "      <td>0</td>\n",
       "      <td>30554</td>\n",
       "      <td>50546</td>\n",
       "      <td>1.2</td>\n",
       "      <td>4</td>\n",
       "      <td>Turbo</td>\n",
       "      <td>5</td>\n",
       "      <td>Compact SUV</td>\n",
       "      <td>2646</td>\n",
       "    </tr>\n",
       "    <tr>\n",
       "      <th>4</th>\n",
       "      <td>Ford Focus</td>\n",
       "      <td>Ford</td>\n",
       "      <td>United States of America</td>\n",
       "      <td>103228</td>\n",
       "      <td>93517</td>\n",
       "      <td>50492</td>\n",
       "      <td>1.0</td>\n",
       "      <td>3</td>\n",
       "      <td>Turbo</td>\n",
       "      <td>5</td>\n",
       "      <td>Hatchback</td>\n",
       "      <td>2700</td>\n",
       "    </tr>\n",
       "  </tbody>\n",
       "</table>\n",
       "</div>"
      ],
      "text/plain": [
       "             Model Manufacturer              Brand Origin    1999    2009  \\\n",
       "0      Ford Fiesta         Ford  United States of America   99830  117296   \n",
       "1  Volkswagen Golf   Volkswagen                   Germany   63715   57187   \n",
       "2   Vauxhall Corsa     Vauxhall            United Kingdom   86779   84478   \n",
       "3   Nissan Qashqai       Nissan                     Japan       0   30554   \n",
       "4       Ford Focus         Ford  United States of America  103228   93517   \n",
       "\n",
       "    2018  Engine  Cylinders Aspiration  Doors         Type  Wheelbase  \n",
       "0  95892     1.0          3      Turbo      5    Supermini       2493  \n",
       "1  64829     1.0          3      Turbo      5    Hatchback       2636  \n",
       "2  52915     1.2          3    Natural      5    Supermini       2538  \n",
       "3  50546     1.2          4      Turbo      5  Compact SUV       2646  \n",
       "4  50492     1.0          3      Turbo      5    Hatchback       2700  "
      ]
     },
     "execution_count": 10,
     "metadata": {},
     "output_type": "execute_result"
    }
   ],
   "source": [
    "df1999.head(5)"
   ]
  },
  {
   "cell_type": "code",
   "execution_count": 11,
   "metadata": {},
   "outputs": [
    {
     "data": {
      "text/plain": [
       "Vauxhall      5\n",
       "Peugeot       5\n",
       "Ford          5\n",
       "Volkswagen    4\n",
       "BMW           2\n",
       "Fiat          2\n",
       "Honda         2\n",
       "Nissan        2\n",
       "Mercedes      2\n",
       "Renault       2\n",
       "Rover         2\n",
       "Citroen       1\n",
       "Toyota        1\n",
       "Hyundai       1\n",
       "Kia           1\n",
       "Audi          1\n",
       "Mini          1\n",
       "Name: Manufacturer, dtype: int64"
      ]
     },
     "execution_count": 11,
     "metadata": {},
     "output_type": "execute_result"
    }
   ],
   "source": [
    "# find out which manufacturer was the most popular in 1999\n",
    "df1999['Manufacturer'].value_counts()"
   ]
  },
  {
   "cell_type": "code",
   "execution_count": 12,
   "metadata": {},
   "outputs": [
    {
     "data": {
      "text/plain": [
       "Germany                     9\n",
       "United Kingdom              8\n",
       "France                      8\n",
       "Japan                       5\n",
       "United States of America    5\n",
       "Italy                       2\n",
       "South Korea                 2\n",
       "Name: Brand Origin, dtype: int64"
      ]
     },
     "execution_count": 12,
     "metadata": {},
     "output_type": "execute_result"
    }
   ],
   "source": [
    "# find out which brand origin was the most popular in 1999\n",
    "df1999['Brand Origin'].value_counts()"
   ]
  },
  {
   "cell_type": "code",
   "execution_count": 13,
   "metadata": {},
   "outputs": [
    {
     "data": {
      "text/plain": [
       "Supermini         15\n",
       "Hatchback          8\n",
       "Sedan              8\n",
       "Compact SUV        5\n",
       "Subcompact SUV     2\n",
       "City Car           1\n",
       "Name: Type, dtype: int64"
      ]
     },
     "execution_count": 13,
     "metadata": {},
     "output_type": "execute_result"
    }
   ],
   "source": [
    "# find out what type of car is was the most popular in 1999\n",
    "df1999['Type'].value_counts()"
   ]
  },
  {
   "cell_type": "code",
   "execution_count": 14,
   "metadata": {},
   "outputs": [
    {
     "data": {
      "text/plain": [
       "4    26\n",
       "3    12\n",
       "2     1\n",
       "Name: Cylinders, dtype: int64"
      ]
     },
     "execution_count": 14,
     "metadata": {},
     "output_type": "execute_result"
    }
   ],
   "source": [
    "# find out the common cylinder configuration in 1999\n",
    "df1999['Cylinders'].value_counts()"
   ]
  },
  {
   "cell_type": "code",
   "execution_count": 15,
   "metadata": {},
   "outputs": [
    {
     "data": {
      "text/plain": [
       "Natural    22\n",
       "Turbo      17\n",
       "Name: Aspiration, dtype: int64"
      ]
     },
     "execution_count": 15,
     "metadata": {},
     "output_type": "execute_result"
    }
   ],
   "source": [
    "# find out the common aspiration configuration in 1999\n",
    "df1999['Aspiration'].value_counts()"
   ]
  },
  {
   "cell_type": "code",
   "execution_count": 16,
   "metadata": {},
   "outputs": [
    {
     "data": {
      "text/plain": [
       "2620.897435897436"
      ]
     },
     "execution_count": 16,
     "metadata": {},
     "output_type": "execute_result"
    }
   ],
   "source": [
    "# find out what the average wheelbase was in 1999\n",
    "avg_wheel1999 = df1999['Wheelbase'].astype('float').mean(axis=0)\n",
    "avg_wheel1999"
   ]
  },
  {
   "cell_type": "code",
   "execution_count": 17,
   "metadata": {},
   "outputs": [],
   "source": [
    "# drop all cars not sold in 2009\n",
    "df2009 = df.dropna(subset=['2009'])"
   ]
  },
  {
   "cell_type": "code",
   "execution_count": 18,
   "metadata": {},
   "outputs": [
    {
     "data": {
      "text/html": [
       "<div>\n",
       "<style scoped>\n",
       "    .dataframe tbody tr th:only-of-type {\n",
       "        vertical-align: middle;\n",
       "    }\n",
       "\n",
       "    .dataframe tbody tr th {\n",
       "        vertical-align: top;\n",
       "    }\n",
       "\n",
       "    .dataframe thead th {\n",
       "        text-align: right;\n",
       "    }\n",
       "</style>\n",
       "<table border=\"1\" class=\"dataframe\">\n",
       "  <thead>\n",
       "    <tr style=\"text-align: right;\">\n",
       "      <th></th>\n",
       "      <th>Model</th>\n",
       "      <th>Manufacturer</th>\n",
       "      <th>Brand Origin</th>\n",
       "      <th>1999</th>\n",
       "      <th>2009</th>\n",
       "      <th>2018</th>\n",
       "      <th>Engine</th>\n",
       "      <th>Cylinders</th>\n",
       "      <th>Aspiration</th>\n",
       "      <th>Doors</th>\n",
       "      <th>Type</th>\n",
       "      <th>Wheelbase</th>\n",
       "    </tr>\n",
       "  </thead>\n",
       "  <tbody>\n",
       "    <tr>\n",
       "      <th>0</th>\n",
       "      <td>Ford Fiesta</td>\n",
       "      <td>Ford</td>\n",
       "      <td>United States of America</td>\n",
       "      <td>99830</td>\n",
       "      <td>117296</td>\n",
       "      <td>95892</td>\n",
       "      <td>1.0</td>\n",
       "      <td>3</td>\n",
       "      <td>Turbo</td>\n",
       "      <td>5</td>\n",
       "      <td>Supermini</td>\n",
       "      <td>2493</td>\n",
       "    </tr>\n",
       "    <tr>\n",
       "      <th>1</th>\n",
       "      <td>Volkswagen Golf</td>\n",
       "      <td>Volkswagen</td>\n",
       "      <td>Germany</td>\n",
       "      <td>63715</td>\n",
       "      <td>57187</td>\n",
       "      <td>64829</td>\n",
       "      <td>1.0</td>\n",
       "      <td>3</td>\n",
       "      <td>Turbo</td>\n",
       "      <td>5</td>\n",
       "      <td>Hatchback</td>\n",
       "      <td>2636</td>\n",
       "    </tr>\n",
       "    <tr>\n",
       "      <th>2</th>\n",
       "      <td>Vauxhall Corsa</td>\n",
       "      <td>Vauxhall</td>\n",
       "      <td>United Kingdom</td>\n",
       "      <td>86779</td>\n",
       "      <td>84478</td>\n",
       "      <td>52915</td>\n",
       "      <td>1.2</td>\n",
       "      <td>3</td>\n",
       "      <td>Natural</td>\n",
       "      <td>5</td>\n",
       "      <td>Supermini</td>\n",
       "      <td>2538</td>\n",
       "    </tr>\n",
       "    <tr>\n",
       "      <th>3</th>\n",
       "      <td>Nissan Qashqai</td>\n",
       "      <td>Nissan</td>\n",
       "      <td>Japan</td>\n",
       "      <td>0</td>\n",
       "      <td>30554</td>\n",
       "      <td>50546</td>\n",
       "      <td>1.2</td>\n",
       "      <td>4</td>\n",
       "      <td>Turbo</td>\n",
       "      <td>5</td>\n",
       "      <td>Compact SUV</td>\n",
       "      <td>2646</td>\n",
       "    </tr>\n",
       "    <tr>\n",
       "      <th>4</th>\n",
       "      <td>Ford Focus</td>\n",
       "      <td>Ford</td>\n",
       "      <td>United States of America</td>\n",
       "      <td>103228</td>\n",
       "      <td>93517</td>\n",
       "      <td>50492</td>\n",
       "      <td>1.0</td>\n",
       "      <td>3</td>\n",
       "      <td>Turbo</td>\n",
       "      <td>5</td>\n",
       "      <td>Hatchback</td>\n",
       "      <td>2700</td>\n",
       "    </tr>\n",
       "  </tbody>\n",
       "</table>\n",
       "</div>"
      ],
      "text/plain": [
       "             Model Manufacturer              Brand Origin    1999    2009  \\\n",
       "0      Ford Fiesta         Ford  United States of America   99830  117296   \n",
       "1  Volkswagen Golf   Volkswagen                   Germany   63715   57187   \n",
       "2   Vauxhall Corsa     Vauxhall            United Kingdom   86779   84478   \n",
       "3   Nissan Qashqai       Nissan                     Japan       0   30554   \n",
       "4       Ford Focus         Ford  United States of America  103228   93517   \n",
       "\n",
       "    2018  Engine  Cylinders Aspiration  Doors         Type  Wheelbase  \n",
       "0  95892     1.0          3      Turbo      5    Supermini       2493  \n",
       "1  64829     1.0          3      Turbo      5    Hatchback       2636  \n",
       "2  52915     1.2          3    Natural      5    Supermini       2538  \n",
       "3  50546     1.2          4      Turbo      5  Compact SUV       2646  \n",
       "4  50492     1.0          3      Turbo      5    Hatchback       2700  "
      ]
     },
     "execution_count": 18,
     "metadata": {},
     "output_type": "execute_result"
    }
   ],
   "source": [
    "df2009.head(5)"
   ]
  },
  {
   "cell_type": "code",
   "execution_count": 19,
   "metadata": {},
   "outputs": [],
   "source": [
    "# drop all cars not sold in 2018\n",
    "df2018 = df.dropna(subset=['2018'])"
   ]
  },
  {
   "cell_type": "code",
   "execution_count": 20,
   "metadata": {},
   "outputs": [
    {
     "data": {
      "text/html": [
       "<div>\n",
       "<style scoped>\n",
       "    .dataframe tbody tr th:only-of-type {\n",
       "        vertical-align: middle;\n",
       "    }\n",
       "\n",
       "    .dataframe tbody tr th {\n",
       "        vertical-align: top;\n",
       "    }\n",
       "\n",
       "    .dataframe thead th {\n",
       "        text-align: right;\n",
       "    }\n",
       "</style>\n",
       "<table border=\"1\" class=\"dataframe\">\n",
       "  <thead>\n",
       "    <tr style=\"text-align: right;\">\n",
       "      <th></th>\n",
       "      <th>Model</th>\n",
       "      <th>Manufacturer</th>\n",
       "      <th>Brand Origin</th>\n",
       "      <th>1999</th>\n",
       "      <th>2009</th>\n",
       "      <th>2018</th>\n",
       "      <th>Engine</th>\n",
       "      <th>Cylinders</th>\n",
       "      <th>Aspiration</th>\n",
       "      <th>Doors</th>\n",
       "      <th>Type</th>\n",
       "      <th>Wheelbase</th>\n",
       "    </tr>\n",
       "  </thead>\n",
       "  <tbody>\n",
       "    <tr>\n",
       "      <th>0</th>\n",
       "      <td>Ford Fiesta</td>\n",
       "      <td>Ford</td>\n",
       "      <td>United States of America</td>\n",
       "      <td>99830</td>\n",
       "      <td>117296</td>\n",
       "      <td>95892</td>\n",
       "      <td>1.0</td>\n",
       "      <td>3</td>\n",
       "      <td>Turbo</td>\n",
       "      <td>5</td>\n",
       "      <td>Supermini</td>\n",
       "      <td>2493</td>\n",
       "    </tr>\n",
       "    <tr>\n",
       "      <th>1</th>\n",
       "      <td>Volkswagen Golf</td>\n",
       "      <td>Volkswagen</td>\n",
       "      <td>Germany</td>\n",
       "      <td>63715</td>\n",
       "      <td>57187</td>\n",
       "      <td>64829</td>\n",
       "      <td>1.0</td>\n",
       "      <td>3</td>\n",
       "      <td>Turbo</td>\n",
       "      <td>5</td>\n",
       "      <td>Hatchback</td>\n",
       "      <td>2636</td>\n",
       "    </tr>\n",
       "    <tr>\n",
       "      <th>2</th>\n",
       "      <td>Vauxhall Corsa</td>\n",
       "      <td>Vauxhall</td>\n",
       "      <td>United Kingdom</td>\n",
       "      <td>86779</td>\n",
       "      <td>84478</td>\n",
       "      <td>52915</td>\n",
       "      <td>1.2</td>\n",
       "      <td>3</td>\n",
       "      <td>Natural</td>\n",
       "      <td>5</td>\n",
       "      <td>Supermini</td>\n",
       "      <td>2538</td>\n",
       "    </tr>\n",
       "    <tr>\n",
       "      <th>3</th>\n",
       "      <td>Nissan Qashqai</td>\n",
       "      <td>Nissan</td>\n",
       "      <td>Japan</td>\n",
       "      <td>0</td>\n",
       "      <td>30554</td>\n",
       "      <td>50546</td>\n",
       "      <td>1.2</td>\n",
       "      <td>4</td>\n",
       "      <td>Turbo</td>\n",
       "      <td>5</td>\n",
       "      <td>Compact SUV</td>\n",
       "      <td>2646</td>\n",
       "    </tr>\n",
       "    <tr>\n",
       "      <th>4</th>\n",
       "      <td>Ford Focus</td>\n",
       "      <td>Ford</td>\n",
       "      <td>United States of America</td>\n",
       "      <td>103228</td>\n",
       "      <td>93517</td>\n",
       "      <td>50492</td>\n",
       "      <td>1.0</td>\n",
       "      <td>3</td>\n",
       "      <td>Turbo</td>\n",
       "      <td>5</td>\n",
       "      <td>Hatchback</td>\n",
       "      <td>2700</td>\n",
       "    </tr>\n",
       "  </tbody>\n",
       "</table>\n",
       "</div>"
      ],
      "text/plain": [
       "             Model Manufacturer              Brand Origin    1999    2009  \\\n",
       "0      Ford Fiesta         Ford  United States of America   99830  117296   \n",
       "1  Volkswagen Golf   Volkswagen                   Germany   63715   57187   \n",
       "2   Vauxhall Corsa     Vauxhall            United Kingdom   86779   84478   \n",
       "3   Nissan Qashqai       Nissan                     Japan       0   30554   \n",
       "4       Ford Focus         Ford  United States of America  103228   93517   \n",
       "\n",
       "    2018  Engine  Cylinders Aspiration  Doors         Type  Wheelbase  \n",
       "0  95892     1.0          3      Turbo      5    Supermini       2493  \n",
       "1  64829     1.0          3      Turbo      5    Hatchback       2636  \n",
       "2  52915     1.2          3    Natural      5    Supermini       2538  \n",
       "3  50546     1.2          4      Turbo      5  Compact SUV       2646  \n",
       "4  50492     1.0          3      Turbo      5    Hatchback       2700  "
      ]
     },
     "execution_count": 20,
     "metadata": {},
     "output_type": "execute_result"
    }
   ],
   "source": [
    "df2018.head(5)"
   ]
  },
  {
   "cell_type": "code",
   "execution_count": 21,
   "metadata": {},
   "outputs": [
    {
     "data": {
      "text/plain": [
       "Vauxhall      5\n",
       "Peugeot       5\n",
       "Ford          5\n",
       "Volkswagen    4\n",
       "BMW           2\n",
       "Fiat          2\n",
       "Honda         2\n",
       "Nissan        2\n",
       "Mercedes      2\n",
       "Renault       2\n",
       "Rover         2\n",
       "Citroen       1\n",
       "Toyota        1\n",
       "Hyundai       1\n",
       "Kia           1\n",
       "Audi          1\n",
       "Mini          1\n",
       "Name: Manufacturer, dtype: int64"
      ]
     },
     "execution_count": 21,
     "metadata": {},
     "output_type": "execute_result"
    }
   ],
   "source": [
    "# find out which manufacturer was the most popular in 2018\n",
    "df2018['Manufacturer'].value_counts()"
   ]
  },
  {
   "cell_type": "code",
   "execution_count": 22,
   "metadata": {},
   "outputs": [
    {
     "data": {
      "text/plain": [
       "Germany                     9\n",
       "United Kingdom              8\n",
       "France                      8\n",
       "Japan                       5\n",
       "United States of America    5\n",
       "Italy                       2\n",
       "South Korea                 2\n",
       "Name: Brand Origin, dtype: int64"
      ]
     },
     "execution_count": 22,
     "metadata": {},
     "output_type": "execute_result"
    }
   ],
   "source": [
    "# find out which brand origin was the most popular in 2018\n",
    "df2018['Brand Origin'].value_counts()"
   ]
  },
  {
   "cell_type": "code",
   "execution_count": 23,
   "metadata": {},
   "outputs": [
    {
     "data": {
      "text/plain": [
       "Supermini         15\n",
       "Hatchback          8\n",
       "Sedan              8\n",
       "Compact SUV        5\n",
       "Subcompact SUV     2\n",
       "City Car           1\n",
       "Name: Type, dtype: int64"
      ]
     },
     "execution_count": 23,
     "metadata": {},
     "output_type": "execute_result"
    }
   ],
   "source": [
    "# find out what type of car is was the most popular in 2018\n",
    "df2018['Type'].value_counts()"
   ]
  },
  {
   "cell_type": "code",
   "execution_count": 24,
   "metadata": {},
   "outputs": [
    {
     "data": {
      "text/plain": [
       "4    26\n",
       "3    12\n",
       "2     1\n",
       "Name: Cylinders, dtype: int64"
      ]
     },
     "execution_count": 24,
     "metadata": {},
     "output_type": "execute_result"
    }
   ],
   "source": [
    "# find out the common cylinder configuration in 2018\n",
    "df2018['Cylinders'].value_counts()"
   ]
  },
  {
   "cell_type": "code",
   "execution_count": 25,
   "metadata": {},
   "outputs": [
    {
     "data": {
      "text/plain": [
       "Natural    22\n",
       "Turbo      17\n",
       "Name: Aspiration, dtype: int64"
      ]
     },
     "execution_count": 25,
     "metadata": {},
     "output_type": "execute_result"
    }
   ],
   "source": [
    "# find out the common aspiration configuration in 2018\n",
    "df2018['Aspiration'].value_counts()"
   ]
  },
  {
   "cell_type": "code",
   "execution_count": 26,
   "metadata": {},
   "outputs": [
    {
     "data": {
      "text/plain": [
       "2620.897435897436"
      ]
     },
     "execution_count": 26,
     "metadata": {},
     "output_type": "execute_result"
    }
   ],
   "source": [
    "# find out what the average wheelbase was in 2018\n",
    "avg_wheel2018 = df2018['Wheelbase'].astype('float').mean(axis=0)\n",
    "avg_wheel2018"
   ]
  },
  {
   "cell_type": "code",
   "execution_count": 27,
   "metadata": {},
   "outputs": [
    {
     "data": {
      "text/html": [
       "<div>\n",
       "<style scoped>\n",
       "    .dataframe tbody tr th:only-of-type {\n",
       "        vertical-align: middle;\n",
       "    }\n",
       "\n",
       "    .dataframe tbody tr th {\n",
       "        vertical-align: top;\n",
       "    }\n",
       "\n",
       "    .dataframe thead th {\n",
       "        text-align: right;\n",
       "    }\n",
       "</style>\n",
       "<table border=\"1\" class=\"dataframe\">\n",
       "  <thead>\n",
       "    <tr style=\"text-align: right;\">\n",
       "      <th></th>\n",
       "      <th>Fuel Type</th>\n",
       "      <th>2013</th>\n",
       "      <th>2013%</th>\n",
       "      <th>2018</th>\n",
       "      <th>2018%</th>\n",
       "      <th>2019</th>\n",
       "      <th>2019%</th>\n",
       "    </tr>\n",
       "  </thead>\n",
       "  <tbody>\n",
       "    <tr>\n",
       "      <th>0</th>\n",
       "      <td>Petrol</td>\n",
       "      <td>1104592</td>\n",
       "      <td>0.49</td>\n",
       "      <td>1466024</td>\n",
       "      <td>0.62</td>\n",
       "      <td>1498640</td>\n",
       "      <td>0.65</td>\n",
       "    </tr>\n",
       "    <tr>\n",
       "      <th>1</th>\n",
       "      <td>Diesel</td>\n",
       "      <td>1127414</td>\n",
       "      <td>0.50</td>\n",
       "      <td>746332</td>\n",
       "      <td>0.32</td>\n",
       "      <td>583488</td>\n",
       "      <td>0.25</td>\n",
       "    </tr>\n",
       "    <tr>\n",
       "      <th>2</th>\n",
       "      <td>AFV</td>\n",
       "      <td>32731</td>\n",
       "      <td>0.01</td>\n",
       "      <td>154791</td>\n",
       "      <td>0.07</td>\n",
       "      <td>229012</td>\n",
       "      <td>0.10</td>\n",
       "    </tr>\n",
       "    <tr>\n",
       "      <th>3</th>\n",
       "      <td>Total</td>\n",
       "      <td>2264737</td>\n",
       "      <td>1.00</td>\n",
       "      <td>2367147</td>\n",
       "      <td>1.00</td>\n",
       "      <td>2311140</td>\n",
       "      <td>1.00</td>\n",
       "    </tr>\n",
       "  </tbody>\n",
       "</table>\n",
       "</div>"
      ],
      "text/plain": [
       "  Fuel Type     2013  2013%     2018  2018%     2019  2019%\n",
       "0    Petrol  1104592   0.49  1466024   0.62  1498640   0.65\n",
       "1    Diesel  1127414   0.50   746332   0.32   583488   0.25\n",
       "2       AFV    32731   0.01   154791   0.07   229012   0.10\n",
       "3     Total  2264737   1.00  2367147   1.00  2311140   1.00"
      ]
     },
     "execution_count": 27,
     "metadata": {},
     "output_type": "execute_result"
    }
   ],
   "source": [
    "df3"
   ]
  },
  {
   "cell_type": "code",
   "execution_count": 28,
   "metadata": {},
   "outputs": [
    {
     "data": {
      "text/plain": [
       "[Text(0, 0, 'United States of America'),\n",
       " Text(0, 0, 'Germany'),\n",
       " Text(0, 0, 'United Kingdom'),\n",
       " Text(0, 0, 'Japan'),\n",
       " Text(0, 0, 'South Korea'),\n",
       " Text(0, 0, 'Italy'),\n",
       " Text(0, 0, 'France')]"
      ]
     },
     "execution_count": 28,
     "metadata": {},
     "output_type": "execute_result"
    },
    {
     "data": {
      "image/png": "[encoded data removed]",
      "text/plain": [
       "<Figure size 1080x360 with 1 Axes>"
      ]
     },
     "metadata": {},
     "output_type": "display_data"
    },
    {
     "data": {
      "image/png": "[encoded data removed]",
      "text/plain": [
       "<Figure size 1080x360 with 1 Axes>"
      ]
     },
     "metadata": {},
     "output_type": "display_data"
    },
    {
     "data": {
      "image/png": "[encoded data removed]",
      "text/plain": [
       "<Figure size 1080x360 with 1 Axes>"
      ]
     },
     "metadata": {},
     "output_type": "display_data"
    }
   ],
   "source": [
    "#Compare how brand origin has changed since 1999\n",
    "\n",
    "sns.set(style=\"whitegrid\")\n",
    "plt.figure(figsize=(15,5))\n",
    "ax = sns.barplot(x=\"Brand Origin\", y=\"1999\", data=df1999, estimator=sum, ci=None)\n",
    "ax.set_xticklabels(\n",
    "    ax.get_xticklabels(), \n",
    "    rotation=0, \n",
    "    horizontalalignment='center',\n",
    "    fontweight='light',\n",
    "    fontsize='medium')\n",
    "\n",
    "sns.set(style=\"whitegrid\")\n",
    "plt.figure(figsize=(15,5))\n",
    "ax = sns.barplot(x=\"Brand Origin\", y=\"2009\", data=df2009, estimator=sum, ci=None)\n",
    "ax.set_xticklabels(\n",
    "    ax.get_xticklabels(), \n",
    "    rotation=0, \n",
    "    horizontalalignment='center',\n",
    "    fontweight='light',\n",
    "    fontsize='medium')\n",
    "\n",
    "sns.set(style=\"whitegrid\")\n",
    "plt.figure(figsize=(15,5))\n",
    "ax = sns.barplot(x=\"Brand Origin\", y=\"2018\", data=df2018, estimator=sum, ci=None)\n",
    "ax.set_xticklabels(\n",
    "    ax.get_xticklabels(), \n",
    "    rotation=0, \n",
    "    horizontalalignment='center',\n",
    "    fontweight='light',\n",
    "    fontsize='medium')"
   ]
  },
  {
   "cell_type": "code",
   "execution_count": 29,
   "metadata": {},
   "outputs": [
    {
     "data": {
      "text/plain": [
       "[Text(0, 0, 'Supermini'),\n",
       " Text(0, 0, 'Hatchback'),\n",
       " Text(0, 0, 'Compact SUV'),\n",
       " Text(0, 0, 'Sedan'),\n",
       " Text(0, 0, 'Subcompact SUV'),\n",
       " Text(0, 0, 'City Car')]"
      ]
     },
     "execution_count": 29,
     "metadata": {},
     "output_type": "execute_result"
    },
    {
     "data": {
      "image/png": "[encoded data removed]",
      "text/plain": [
       "<Figure size 1080x360 with 1 Axes>"
      ]
     },
     "metadata": {},
     "output_type": "display_data"
    },
    {
     "data": {
      "image/png": "[encoded data removed]",
      "text/plain": [
       "<Figure size 1080x360 with 1 Axes>"
      ]
     },
     "metadata": {},
     "output_type": "display_data"
    },
    {
     "data": {
      "image/png": "[encoded data removed]",
      "text/plain": [
       "<Figure size 1080x360 with 1 Axes>"
      ]
     },
     "metadata": {},
     "output_type": "display_data"
    }
   ],
   "source": [
    "#Compare how preferences for car types ahve changed since 1999\n",
    "\n",
    "sns.set(style=\"whitegrid\")\n",
    "plt.figure(figsize=(15,5))\n",
    "ax = sns.barplot(x=\"Type\", y=\"1999\", data=df1999, estimator=sum, ci=None)\n",
    "ax.set_xticklabels(\n",
    "    ax.get_xticklabels(), \n",
    "    rotation=0, \n",
    "    horizontalalignment='center',\n",
    "    fontweight='light',\n",
    "    fontsize='medium')\n",
    "\n",
    "sns.set(style=\"whitegrid\")\n",
    "plt.figure(figsize=(15,5))\n",
    "ax = sns.barplot(x=\"Type\", y=\"2009\", data=df2009, estimator=sum, ci=None)\n",
    "ax.set_xticklabels(\n",
    "    ax.get_xticklabels(), \n",
    "    rotation=0, \n",
    "    horizontalalignment='center',\n",
    "    fontweight='light',\n",
    "    fontsize='medium')\n",
    "\n",
    "sns.set(style=\"whitegrid\")\n",
    "plt.figure(figsize=(15,5))\n",
    "ax = sns.barplot(x=\"Type\", y=\"2018\", data=df2018, estimator=sum, ci=None)\n",
    "ax.set_xticklabels(\n",
    "    ax.get_xticklabels(), \n",
    "    rotation=0, \n",
    "    horizontalalignment='center',\n",
    "    fontweight='light',\n",
    "    fontsize='medium')"
   ]
  },
  {
   "cell_type": "code",
   "execution_count": 30,
   "metadata": {},
   "outputs": [
    {
     "data": {
      "text/plain": [
       "[Text(0, 0, '2'), Text(0, 0, '3'), Text(0, 0, '4')]"
      ]
     },
     "execution_count": 30,
     "metadata": {},
     "output_type": "execute_result"
    },
    {
     "data": {
      "image/png": "[encoded data removed]",
      "text/plain": [
       "<Figure size 1080x360 with 1 Axes>"
      ]
     },
     "metadata": {},
     "output_type": "display_data"
    },
    {
     "data": {
      "image/png": "[encoded data removed]",
      "text/plain": [
       "<Figure size 1080x360 with 1 Axes>"
      ]
     },
     "metadata": {},
     "output_type": "display_data"
    },
    {
     "data": {
      "image/png": "[encoded data removed]",
      "text/plain": [
       "<Figure size 1080x360 with 1 Axes>"
      ]
     },
     "metadata": {},
     "output_type": "display_data"
    }
   ],
   "source": [
    "#Compare how the number of cylinders has changed since 1999\n",
    "\n",
    "sns.set(style=\"whitegrid\")\n",
    "plt.figure(figsize=(15,5))\n",
    "ax = sns.barplot(x=\"Cylinders\", y=\"1999\", data=df1999, estimator=sum, ci=None)\n",
    "ax.set_xticklabels(\n",
    "    ax.get_xticklabels(), \n",
    "    rotation=0, \n",
    "    horizontalalignment='center',\n",
    "    fontweight='light',\n",
    "    fontsize='medium')\n",
    "\n",
    "sns.set(style=\"whitegrid\")\n",
    "plt.figure(figsize=(15,5))\n",
    "ax = sns.barplot(x=\"Cylinders\", y=\"2009\", data=df2009, estimator=sum, ci=None)\n",
    "ax.set_xticklabels(\n",
    "    ax.get_xticklabels(), \n",
    "    rotation=0, \n",
    "    horizontalalignment='center',\n",
    "    fontweight='light',\n",
    "    fontsize='medium')\n",
    "\n",
    "sns.set(style=\"whitegrid\")\n",
    "plt.figure(figsize=(15,5))\n",
    "ax = sns.barplot(x=\"Cylinders\", y=\"2018\", data=df2018, estimator=sum, ci=None)\n",
    "ax.set_xticklabels(\n",
    "    ax.get_xticklabels(), \n",
    "    rotation=0, \n",
    "    horizontalalignment='center',\n",
    "    fontweight='light',\n",
    "    fontsize='medium')"
   ]
  },
  {
   "cell_type": "code",
   "execution_count": 31,
   "metadata": {},
   "outputs": [
    {
     "data": {
      "text/plain": [
       "[Text(0, 0, 'Petrol'),\n",
       " Text(0, 0, 'Diesel'),\n",
       " Text(0, 0, 'AFV'),\n",
       " Text(0, 0, 'Total')]"
      ]
     },
     "execution_count": 31,
     "metadata": {},
     "output_type": "execute_result"
    },
    {
     "data": {
      "image/png": "[encoded data removed]",
      "text/plain": [
       "<Figure size 1080x360 with 1 Axes>"
      ]
     },
     "metadata": {},
     "output_type": "display_data"
    },
    {
     "data": {
      "image/png": "[encoded data removed]",
      "text/plain": [
       "<Figure size 1080x360 with 1 Axes>"
      ]
     },
     "metadata": {},
     "output_type": "display_data"
    }
   ],
   "source": [
    "#Compare how fuel types changed the six years between 2013 and 2019\n",
    "\n",
    "sns.set(style=\"whitegrid\")\n",
    "plt.figure(figsize=(15,5))\n",
    "ax = sns.barplot(x=\"Fuel Type\", y=\"2013\", data=df3, estimator=sum)\n",
    "ax.set_xticklabels(\n",
    "    ax.get_xticklabels(), \n",
    "    rotation=0, \n",
    "    horizontalalignment='center',\n",
    "    fontweight='light',\n",
    "    fontsize='medium')\n",
    "\n",
    "sns.set(style=\"whitegrid\")\n",
    "plt.figure(figsize=(15,5))\n",
    "ax = sns.barplot(x=\"Fuel Type\", y=\"2019\", data=df3, estimator=sum)\n",
    "ax.set_xticklabels(\n",
    "    ax.get_xticklabels(), \n",
    "    rotation=0, \n",
    "    horizontalalignment='center',\n",
    "    fontweight='light',\n",
    "    fontsize='medium')"
   ]
  },
  {
   "cell_type": "code",
   "execution_count": 32,
   "metadata": {},
   "outputs": [
    {
     "data": {
      "text/html": [
       "<div>\n",
       "<style scoped>\n",
       "    .dataframe tbody tr th:only-of-type {\n",
       "        vertical-align: middle;\n",
       "    }\n",
       "\n",
       "    .dataframe tbody tr th {\n",
       "        vertical-align: top;\n",
       "    }\n",
       "\n",
       "    .dataframe thead th {\n",
       "        text-align: right;\n",
       "    }\n",
       "</style>\n",
       "<table border=\"1\" class=\"dataframe\">\n",
       "  <thead>\n",
       "    <tr style=\"text-align: right;\">\n",
       "      <th></th>\n",
       "      <th>Manufacturer</th>\n",
       "      <th>Fuel</th>\n",
       "      <th>Aspiration</th>\n",
       "      <th>Doors</th>\n",
       "      <th>Type</th>\n",
       "      <th>Drive Layout</th>\n",
       "      <th>Engine Location</th>\n",
       "      <th>Wheelbase</th>\n",
       "      <th>Engine Size</th>\n",
       "      <th>Bore</th>\n",
       "      <th>Stroke</th>\n",
       "      <th>Compression Ratio</th>\n",
       "      <th>Horsepower</th>\n",
       "      <th>MPG Urbn</th>\n",
       "      <th>MPG Motorway</th>\n",
       "      <th>Price</th>\n",
       "    </tr>\n",
       "  </thead>\n",
       "  <tbody>\n",
       "    <tr>\n",
       "      <th>0</th>\n",
       "      <td>audi</td>\n",
       "      <td>petrol</td>\n",
       "      <td>nautral</td>\n",
       "      <td>four</td>\n",
       "      <td>sedan</td>\n",
       "      <td>fwd</td>\n",
       "      <td>front</td>\n",
       "      <td>2534.92</td>\n",
       "      <td>2337</td>\n",
       "      <td>81.026</td>\n",
       "      <td>86.36</td>\n",
       "      <td>10.0</td>\n",
       "      <td>102</td>\n",
       "      <td>42.00</td>\n",
       "      <td>52.50</td>\n",
       "      <td>27900</td>\n",
       "    </tr>\n",
       "    <tr>\n",
       "      <th>1</th>\n",
       "      <td>audi</td>\n",
       "      <td>petrol</td>\n",
       "      <td>nautral</td>\n",
       "      <td>four</td>\n",
       "      <td>sedan</td>\n",
       "      <td>4wd</td>\n",
       "      <td>front</td>\n",
       "      <td>2524.76</td>\n",
       "      <td>2824</td>\n",
       "      <td>81.026</td>\n",
       "      <td>86.36</td>\n",
       "      <td>8.0</td>\n",
       "      <td>115</td>\n",
       "      <td>31.50</td>\n",
       "      <td>38.50</td>\n",
       "      <td>34900</td>\n",
       "    </tr>\n",
       "    <tr>\n",
       "      <th>2</th>\n",
       "      <td>audi</td>\n",
       "      <td>petrol</td>\n",
       "      <td>nautral</td>\n",
       "      <td>two</td>\n",
       "      <td>sedan</td>\n",
       "      <td>fwd</td>\n",
       "      <td>front</td>\n",
       "      <td>2534.92</td>\n",
       "      <td>2507</td>\n",
       "      <td>81.026</td>\n",
       "      <td>86.36</td>\n",
       "      <td>8.5</td>\n",
       "      <td>110</td>\n",
       "      <td>33.25</td>\n",
       "      <td>43.75</td>\n",
       "      <td>30500</td>\n",
       "    </tr>\n",
       "    <tr>\n",
       "      <th>3</th>\n",
       "      <td>audi</td>\n",
       "      <td>petrol</td>\n",
       "      <td>nautral</td>\n",
       "      <td>four</td>\n",
       "      <td>sedan</td>\n",
       "      <td>fwd</td>\n",
       "      <td>front</td>\n",
       "      <td>2687.32</td>\n",
       "      <td>2844</td>\n",
       "      <td>81.026</td>\n",
       "      <td>86.36</td>\n",
       "      <td>8.5</td>\n",
       "      <td>110</td>\n",
       "      <td>33.25</td>\n",
       "      <td>43.75</td>\n",
       "      <td>35420</td>\n",
       "    </tr>\n",
       "    <tr>\n",
       "      <th>4</th>\n",
       "      <td>audi</td>\n",
       "      <td>petrol</td>\n",
       "      <td>nautral</td>\n",
       "      <td>four</td>\n",
       "      <td>estate</td>\n",
       "      <td>fwd</td>\n",
       "      <td>front</td>\n",
       "      <td>2687.32</td>\n",
       "      <td>2954</td>\n",
       "      <td>81.026</td>\n",
       "      <td>86.36</td>\n",
       "      <td>8.5</td>\n",
       "      <td>110</td>\n",
       "      <td>33.25</td>\n",
       "      <td>43.75</td>\n",
       "      <td>37840</td>\n",
       "    </tr>\n",
       "  </tbody>\n",
       "</table>\n",
       "</div>"
      ],
      "text/plain": [
       "  Manufacturer    Fuel Aspiration Doors    Type Drive Layout Engine Location  \\\n",
       "0         audi  petrol    nautral  four   sedan          fwd           front   \n",
       "1         audi  petrol    nautral  four   sedan          4wd           front   \n",
       "2         audi  petrol    nautral   two   sedan          fwd           front   \n",
       "3         audi  petrol    nautral  four   sedan          fwd           front   \n",
       "4         audi  petrol    nautral  four  estate          fwd           front   \n",
       "\n",
       "   Wheelbase  Engine Size    Bore  Stroke  Compression Ratio  Horsepower  \\\n",
       "0    2534.92         2337  81.026   86.36               10.0         102   \n",
       "1    2524.76         2824  81.026   86.36                8.0         115   \n",
       "2    2534.92         2507  81.026   86.36                8.5         110   \n",
       "3    2687.32         2844  81.026   86.36                8.5         110   \n",
       "4    2687.32         2954  81.026   86.36                8.5         110   \n",
       "\n",
       "   MPG Urbn  MPG Motorway  Price  \n",
       "0     42.00         52.50  27900  \n",
       "1     31.50         38.50  34900  \n",
       "2     33.25         43.75  30500  \n",
       "3     33.25         43.75  35420  \n",
       "4     33.25         43.75  37840  "
      ]
     },
     "execution_count": 32,
     "metadata": {},
     "output_type": "execute_result"
    }
   ],
   "source": [
    "# Load our second car database to compare technical specifications\n",
    "df2.head(5)"
   ]
  },
  {
   "cell_type": "code",
   "execution_count": 33,
   "metadata": {},
   "outputs": [
    {
     "data": {
      "text/html": [
       "<div>\n",
       "<style scoped>\n",
       "    .dataframe tbody tr th:only-of-type {\n",
       "        vertical-align: middle;\n",
       "    }\n",
       "\n",
       "    .dataframe tbody tr th {\n",
       "        vertical-align: top;\n",
       "    }\n",
       "\n",
       "    .dataframe thead th {\n",
       "        text-align: right;\n",
       "    }\n",
       "</style>\n",
       "<table border=\"1\" class=\"dataframe\">\n",
       "  <thead>\n",
       "    <tr style=\"text-align: right;\">\n",
       "      <th></th>\n",
       "      <th>Wheelbase</th>\n",
       "      <th>Engine Size</th>\n",
       "      <th>Bore</th>\n",
       "      <th>Stroke</th>\n",
       "      <th>Compression Ratio</th>\n",
       "      <th>Horsepower</th>\n",
       "      <th>MPG Urbn</th>\n",
       "      <th>MPG Motorway</th>\n",
       "      <th>Price</th>\n",
       "    </tr>\n",
       "  </thead>\n",
       "  <tbody>\n",
       "    <tr>\n",
       "      <th>Wheelbase</th>\n",
       "      <td>1.000000</td>\n",
       "      <td>0.789786</td>\n",
       "      <td>0.584779</td>\n",
       "      <td>0.112455</td>\n",
       "      <td>0.234753</td>\n",
       "      <td>0.344167</td>\n",
       "      <td>-0.494379</td>\n",
       "      <td>-0.572915</td>\n",
       "      <td>0.537763</td>\n",
       "    </tr>\n",
       "    <tr>\n",
       "      <th>Engine Size</th>\n",
       "      <td>0.789786</td>\n",
       "      <td>1.000000</td>\n",
       "      <td>0.741005</td>\n",
       "      <td>0.145014</td>\n",
       "      <td>0.145880</td>\n",
       "      <td>0.743287</td>\n",
       "      <td>-0.750998</td>\n",
       "      <td>-0.796840</td>\n",
       "      <td>0.810362</td>\n",
       "    </tr>\n",
       "    <tr>\n",
       "      <th>Bore</th>\n",
       "      <td>0.584779</td>\n",
       "      <td>0.741005</td>\n",
       "      <td>1.000000</td>\n",
       "      <td>0.061826</td>\n",
       "      <td>0.037996</td>\n",
       "      <td>0.653557</td>\n",
       "      <td>-0.601252</td>\n",
       "      <td>-0.591395</td>\n",
       "      <td>0.646427</td>\n",
       "    </tr>\n",
       "    <tr>\n",
       "      <th>Stroke</th>\n",
       "      <td>0.112455</td>\n",
       "      <td>0.145014</td>\n",
       "      <td>0.061826</td>\n",
       "      <td>1.000000</td>\n",
       "      <td>0.193222</td>\n",
       "      <td>0.035750</td>\n",
       "      <td>-0.014454</td>\n",
       "      <td>-0.046765</td>\n",
       "      <td>0.009112</td>\n",
       "    </tr>\n",
       "    <tr>\n",
       "      <th>Compression Ratio</th>\n",
       "      <td>0.234753</td>\n",
       "      <td>0.145880</td>\n",
       "      <td>0.037996</td>\n",
       "      <td>0.193222</td>\n",
       "      <td>1.000000</td>\n",
       "      <td>-0.220790</td>\n",
       "      <td>0.344870</td>\n",
       "      <td>0.276868</td>\n",
       "      <td>0.037669</td>\n",
       "    </tr>\n",
       "    <tr>\n",
       "      <th>Horsepower</th>\n",
       "      <td>0.344167</td>\n",
       "      <td>0.743287</td>\n",
       "      <td>0.653557</td>\n",
       "      <td>0.035750</td>\n",
       "      <td>-0.220790</td>\n",
       "      <td>1.000000</td>\n",
       "      <td>-0.809085</td>\n",
       "      <td>-0.776532</td>\n",
       "      <td>0.839329</td>\n",
       "    </tr>\n",
       "    <tr>\n",
       "      <th>MPG Urbn</th>\n",
       "      <td>-0.494379</td>\n",
       "      <td>-0.750998</td>\n",
       "      <td>-0.601252</td>\n",
       "      <td>-0.014454</td>\n",
       "      <td>0.344870</td>\n",
       "      <td>-0.809085</td>\n",
       "      <td>1.000000</td>\n",
       "      <td>0.973544</td>\n",
       "      <td>-0.685811</td>\n",
       "    </tr>\n",
       "    <tr>\n",
       "      <th>MPG Motorway</th>\n",
       "      <td>-0.572915</td>\n",
       "      <td>-0.796840</td>\n",
       "      <td>-0.591395</td>\n",
       "      <td>-0.046765</td>\n",
       "      <td>0.276868</td>\n",
       "      <td>-0.776532</td>\n",
       "      <td>0.973544</td>\n",
       "      <td>1.000000</td>\n",
       "      <td>-0.683912</td>\n",
       "    </tr>\n",
       "    <tr>\n",
       "      <th>Price</th>\n",
       "      <td>0.537763</td>\n",
       "      <td>0.810362</td>\n",
       "      <td>0.646427</td>\n",
       "      <td>0.009112</td>\n",
       "      <td>0.037669</td>\n",
       "      <td>0.839329</td>\n",
       "      <td>-0.685811</td>\n",
       "      <td>-0.683912</td>\n",
       "      <td>1.000000</td>\n",
       "    </tr>\n",
       "  </tbody>\n",
       "</table>\n",
       "</div>"
      ],
      "text/plain": [
       "                   Wheelbase  Engine Size      Bore    Stroke  \\\n",
       "Wheelbase           1.000000     0.789786  0.584779  0.112455   \n",
       "Engine Size         0.789786     1.000000  0.741005  0.145014   \n",
       "Bore                0.584779     0.741005  1.000000  0.061826   \n",
       "Stroke              0.112455     0.145014  0.061826  1.000000   \n",
       "Compression Ratio   0.234753     0.145880  0.037996  0.193222   \n",
       "Horsepower          0.344167     0.743287  0.653557  0.035750   \n",
       "MPG Urbn           -0.494379    -0.750998 -0.601252 -0.014454   \n",
       "MPG Motorway       -0.572915    -0.796840 -0.591395 -0.046765   \n",
       "Price               0.537763     0.810362  0.646427  0.009112   \n",
       "\n",
       "                   Compression Ratio  Horsepower  MPG Urbn  MPG Motorway  \\\n",
       "Wheelbase                   0.234753    0.344167 -0.494379     -0.572915   \n",
       "Engine Size                 0.145880    0.743287 -0.750998     -0.796840   \n",
       "Bore                        0.037996    0.653557 -0.601252     -0.591395   \n",
       "Stroke                      0.193222    0.035750 -0.014454     -0.046765   \n",
       "Compression Ratio           1.000000   -0.220790  0.344870      0.276868   \n",
       "Horsepower                 -0.220790    1.000000 -0.809085     -0.776532   \n",
       "MPG Urbn                    0.344870   -0.809085  1.000000      0.973544   \n",
       "MPG Motorway                0.276868   -0.776532  0.973544      1.000000   \n",
       "Price                       0.037669    0.839329 -0.685811     -0.683912   \n",
       "\n",
       "                      Price  \n",
       "Wheelbase          0.537763  \n",
       "Engine Size        0.810362  \n",
       "Bore               0.646427  \n",
       "Stroke             0.009112  \n",
       "Compression Ratio  0.037669  \n",
       "Horsepower         0.839329  \n",
       "MPG Urbn          -0.685811  \n",
       "MPG Motorway      -0.683912  \n",
       "Price              1.000000  "
      ]
     },
     "execution_count": 33,
     "metadata": {},
     "output_type": "execute_result"
    }
   ],
   "source": [
    "# Process the correlation between the variables in the dataframe\n",
    "df2.corr()"
   ]
  },
  {
   "cell_type": "code",
   "execution_count": 34,
   "metadata": {},
   "outputs": [
    {
     "data": {
      "text/plain": [
       "(0.0, 116834.81889599007)"
      ]
     },
     "execution_count": 34,
     "metadata": {},
     "output_type": "execute_result"
    },
    {
     "data": {
      "image/png": "[encoded data removed]",
      "text/plain": [
       "<Figure size 1080x720 with 1 Axes>"
      ]
     },
     "metadata": {},
     "output_type": "display_data"
    }
   ],
   "source": [
    "# Plot the correlation between engine size and price\n",
    "sns.set(style=\"whitegrid\")\n",
    "plt.figure(figsize=(15,10))\n",
    "sns.regplot(x=\"Engine Size\", y=\"Price\", data=df2)\n",
    "plt.ylim(0,)"
   ]
  },
  {
   "cell_type": "code",
   "execution_count": 35,
   "metadata": {},
   "outputs": [
    {
     "data": {
      "text/html": [
       "<div>\n",
       "<style scoped>\n",
       "    .dataframe tbody tr th:only-of-type {\n",
       "        vertical-align: middle;\n",
       "    }\n",
       "\n",
       "    .dataframe tbody tr th {\n",
       "        vertical-align: top;\n",
       "    }\n",
       "\n",
       "    .dataframe thead th {\n",
       "        text-align: right;\n",
       "    }\n",
       "</style>\n",
       "<table border=\"1\" class=\"dataframe\">\n",
       "  <thead>\n",
       "    <tr style=\"text-align: right;\">\n",
       "      <th></th>\n",
       "      <th>Engine Size</th>\n",
       "      <th>Price</th>\n",
       "    </tr>\n",
       "  </thead>\n",
       "  <tbody>\n",
       "    <tr>\n",
       "      <th>Engine Size</th>\n",
       "      <td>1.000000</td>\n",
       "      <td>0.810362</td>\n",
       "    </tr>\n",
       "    <tr>\n",
       "      <th>Price</th>\n",
       "      <td>0.810362</td>\n",
       "      <td>1.000000</td>\n",
       "    </tr>\n",
       "  </tbody>\n",
       "</table>\n",
       "</div>"
      ],
      "text/plain": [
       "             Engine Size     Price\n",
       "Engine Size     1.000000  0.810362\n",
       "Price           0.810362  1.000000"
      ]
     },
     "execution_count": 35,
     "metadata": {},
     "output_type": "execute_result"
    }
   ],
   "source": [
    "# Calculate the correlation between engine size and price\n",
    "df2[[\"Engine Size\", \"Price\" ]].corr()"
   ]
  },
  {
   "cell_type": "code",
   "execution_count": 36,
   "metadata": {},
   "outputs": [
    {
     "data": {
      "text/plain": [
       "<matplotlib.axes._subplots.AxesSubplot at 0x1d848389370>"
      ]
     },
     "execution_count": 36,
     "metadata": {},
     "output_type": "execute_result"
    },
    {
     "data": {
      "image/png": "[encoded data removed]",
      "text/plain": [
       "<Figure size 1080x720 with 1 Axes>"
      ]
     },
     "metadata": {},
     "output_type": "display_data"
    }
   ],
   "source": [
    "#Boxplot of the price ranges of cars by type\n",
    "sns.set(style=\"whitegrid\")\n",
    "plt.figure(figsize=(15,10))\n",
    "sns.boxplot(x=\"Type\", y=\"Price\", data=df2)"
   ]
  },
  {
   "cell_type": "code",
   "execution_count": 37,
   "metadata": {},
   "outputs": [],
   "source": [
    "# Define a group by Drive Layout to include Type and Price\n",
    "df_group_one = df2[['Drive Layout','Type','Price']]"
   ]
  },
  {
   "cell_type": "code",
   "execution_count": 38,
   "metadata": {},
   "outputs": [
    {
     "data": {
      "text/html": [
       "<div>\n",
       "<style scoped>\n",
       "    .dataframe tbody tr th:only-of-type {\n",
       "        vertical-align: middle;\n",
       "    }\n",
       "\n",
       "    .dataframe tbody tr th {\n",
       "        vertical-align: top;\n",
       "    }\n",
       "\n",
       "    .dataframe thead th {\n",
       "        text-align: right;\n",
       "    }\n",
       "</style>\n",
       "<table border=\"1\" class=\"dataframe\">\n",
       "  <thead>\n",
       "    <tr style=\"text-align: right;\">\n",
       "      <th></th>\n",
       "      <th>Drive Layout</th>\n",
       "      <th>Price</th>\n",
       "    </tr>\n",
       "  </thead>\n",
       "  <tbody>\n",
       "    <tr>\n",
       "      <th>0</th>\n",
       "      <td>4wd</td>\n",
       "      <td>31985.000000</td>\n",
       "    </tr>\n",
       "    <tr>\n",
       "      <th>1</th>\n",
       "      <td>fwd</td>\n",
       "      <td>18252.208333</td>\n",
       "    </tr>\n",
       "    <tr>\n",
       "      <th>2</th>\n",
       "      <td>rwd</td>\n",
       "      <td>41848.347826</td>\n",
       "    </tr>\n",
       "  </tbody>\n",
       "</table>\n",
       "</div>"
      ],
      "text/plain": [
       "  Drive Layout         Price\n",
       "0          4wd  31985.000000\n",
       "1          fwd  18252.208333\n",
       "2          rwd  41848.347826"
      ]
     },
     "execution_count": 38,
     "metadata": {},
     "output_type": "execute_result"
    }
   ],
   "source": [
    "# group mean price by Drive Layout (Group)\n",
    "df_group_one = df_group_one.groupby(['Drive Layout'],as_index=False).mean()\n",
    "df_group_one"
   ]
  },
  {
   "cell_type": "code",
   "execution_count": 39,
   "metadata": {},
   "outputs": [
    {
     "data": {
      "text/html": [
       "<div>\n",
       "<style scoped>\n",
       "    .dataframe tbody tr th:only-of-type {\n",
       "        vertical-align: middle;\n",
       "    }\n",
       "\n",
       "    .dataframe tbody tr th {\n",
       "        vertical-align: top;\n",
       "    }\n",
       "\n",
       "    .dataframe thead th {\n",
       "        text-align: right;\n",
       "    }\n",
       "</style>\n",
       "<table border=\"1\" class=\"dataframe\">\n",
       "  <thead>\n",
       "    <tr style=\"text-align: right;\">\n",
       "      <th></th>\n",
       "      <th>Drive Layout</th>\n",
       "      <th>Type</th>\n",
       "      <th>Price</th>\n",
       "    </tr>\n",
       "  </thead>\n",
       "  <tbody>\n",
       "    <tr>\n",
       "      <th>0</th>\n",
       "      <td>4wd</td>\n",
       "      <td>estate</td>\n",
       "      <td>16676.000000</td>\n",
       "    </tr>\n",
       "    <tr>\n",
       "      <th>1</th>\n",
       "      <td>4wd</td>\n",
       "      <td>hatchback</td>\n",
       "      <td>59688.000000</td>\n",
       "    </tr>\n",
       "    <tr>\n",
       "      <th>2</th>\n",
       "      <td>4wd</td>\n",
       "      <td>sedan</td>\n",
       "      <td>34900.000000</td>\n",
       "    </tr>\n",
       "    <tr>\n",
       "      <th>3</th>\n",
       "      <td>fwd</td>\n",
       "      <td>convertible</td>\n",
       "      <td>23190.000000</td>\n",
       "    </tr>\n",
       "    <tr>\n",
       "      <th>4</th>\n",
       "      <td>fwd</td>\n",
       "      <td>estate</td>\n",
       "      <td>21022.750000</td>\n",
       "    </tr>\n",
       "    <tr>\n",
       "      <th>5</th>\n",
       "      <td>fwd</td>\n",
       "      <td>hardtop</td>\n",
       "      <td>16498.000000</td>\n",
       "    </tr>\n",
       "    <tr>\n",
       "      <th>6</th>\n",
       "      <td>fwd</td>\n",
       "      <td>hatchback</td>\n",
       "      <td>16227.950000</td>\n",
       "    </tr>\n",
       "    <tr>\n",
       "      <th>7</th>\n",
       "      <td>fwd</td>\n",
       "      <td>sedan</td>\n",
       "      <td>19461.391304</td>\n",
       "    </tr>\n",
       "    <tr>\n",
       "      <th>8</th>\n",
       "      <td>rwd</td>\n",
       "      <td>convertible</td>\n",
       "      <td>59835.333333</td>\n",
       "    </tr>\n",
       "    <tr>\n",
       "      <th>9</th>\n",
       "      <td>rwd</td>\n",
       "      <td>estate</td>\n",
       "      <td>33988.444444</td>\n",
       "    </tr>\n",
       "    <tr>\n",
       "      <th>10</th>\n",
       "      <td>rwd</td>\n",
       "      <td>hardtop</td>\n",
       "      <td>48405.428571</td>\n",
       "    </tr>\n",
       "    <tr>\n",
       "      <th>11</th>\n",
       "      <td>rwd</td>\n",
       "      <td>hatchback</td>\n",
       "      <td>34240.933333</td>\n",
       "    </tr>\n",
       "    <tr>\n",
       "      <th>12</th>\n",
       "      <td>rwd</td>\n",
       "      <td>sedan</td>\n",
       "      <td>44276.628571</td>\n",
       "    </tr>\n",
       "  </tbody>\n",
       "</table>\n",
       "</div>"
      ],
      "text/plain": [
       "   Drive Layout         Type         Price\n",
       "0           4wd       estate  16676.000000\n",
       "1           4wd    hatchback  59688.000000\n",
       "2           4wd        sedan  34900.000000\n",
       "3           fwd  convertible  23190.000000\n",
       "4           fwd       estate  21022.750000\n",
       "5           fwd      hardtop  16498.000000\n",
       "6           fwd    hatchback  16227.950000\n",
       "7           fwd        sedan  19461.391304\n",
       "8           rwd  convertible  59835.333333\n",
       "9           rwd       estate  33988.444444\n",
       "10          rwd      hardtop  48405.428571\n",
       "11          rwd    hatchback  34240.933333\n",
       "12          rwd        sedan  44276.628571"
      ]
     },
     "execution_count": 39,
     "metadata": {},
     "output_type": "execute_result"
    }
   ],
   "source": [
    "# Split out the mean price data by Drive Layout, then Type.\n",
    "df2_gptest = df2[['Drive Layout','Type','Price']]\n",
    "grouped_test1 = df2_gptest.groupby(['Drive Layout','Type'],as_index=False).mean()\n",
    "grouped_test1"
   ]
  },
  {
   "cell_type": "code",
   "execution_count": 40,
   "metadata": {},
   "outputs": [
    {
     "data": {
      "text/html": [
       "<div>\n",
       "<style scoped>\n",
       "    .dataframe tbody tr th:only-of-type {\n",
       "        vertical-align: middle;\n",
       "    }\n",
       "\n",
       "    .dataframe tbody tr th {\n",
       "        vertical-align: top;\n",
       "    }\n",
       "\n",
       "    .dataframe thead tr th {\n",
       "        text-align: left;\n",
       "    }\n",
       "\n",
       "    .dataframe thead tr:last-of-type th {\n",
       "        text-align: right;\n",
       "    }\n",
       "</style>\n",
       "<table border=\"1\" class=\"dataframe\">\n",
       "  <thead>\n",
       "    <tr>\n",
       "      <th></th>\n",
       "      <th colspan=\"5\" halign=\"left\">Price</th>\n",
       "    </tr>\n",
       "    <tr>\n",
       "      <th>Type</th>\n",
       "      <th>convertible</th>\n",
       "      <th>estate</th>\n",
       "      <th>hardtop</th>\n",
       "      <th>hatchback</th>\n",
       "      <th>sedan</th>\n",
       "    </tr>\n",
       "    <tr>\n",
       "      <th>Drive Layout</th>\n",
       "      <th></th>\n",
       "      <th></th>\n",
       "      <th></th>\n",
       "      <th></th>\n",
       "      <th></th>\n",
       "    </tr>\n",
       "  </thead>\n",
       "  <tbody>\n",
       "    <tr>\n",
       "      <th>4wd</th>\n",
       "      <td>NaN</td>\n",
       "      <td>16676.000000</td>\n",
       "      <td>NaN</td>\n",
       "      <td>59688.000000</td>\n",
       "      <td>34900.000000</td>\n",
       "    </tr>\n",
       "    <tr>\n",
       "      <th>fwd</th>\n",
       "      <td>23190.000000</td>\n",
       "      <td>21022.750000</td>\n",
       "      <td>16498.000000</td>\n",
       "      <td>16227.950000</td>\n",
       "      <td>19461.391304</td>\n",
       "    </tr>\n",
       "    <tr>\n",
       "      <th>rwd</th>\n",
       "      <td>59835.333333</td>\n",
       "      <td>33988.444444</td>\n",
       "      <td>48405.428571</td>\n",
       "      <td>34240.933333</td>\n",
       "      <td>44276.628571</td>\n",
       "    </tr>\n",
       "  </tbody>\n",
       "</table>\n",
       "</div>"
      ],
      "text/plain": [
       "                     Price                                            \\\n",
       "Type           convertible        estate       hardtop     hatchback   \n",
       "Drive Layout                                                           \n",
       "4wd                    NaN  16676.000000           NaN  59688.000000   \n",
       "fwd           23190.000000  21022.750000  16498.000000  16227.950000   \n",
       "rwd           59835.333333  33988.444444  48405.428571  34240.933333   \n",
       "\n",
       "                            \n",
       "Type                 sedan  \n",
       "Drive Layout                \n",
       "4wd           34900.000000  \n",
       "fwd           19461.391304  \n",
       "rwd           44276.628571  "
      ]
     },
     "execution_count": 40,
     "metadata": {},
     "output_type": "execute_result"
    }
   ],
   "source": [
    "# Pivot the data\n",
    "grouped_pivot = grouped_test1.pivot(index='Drive Layout',columns='Type')\n",
    "grouped_pivot"
   ]
  },
  {
   "cell_type": "code",
   "execution_count": 41,
   "metadata": {},
   "outputs": [],
   "source": [
    "# import statistics package\n",
    "from scipy import stats"
   ]
  },
  {
   "cell_type": "code",
   "execution_count": 42,
   "metadata": {},
   "outputs": [
    {
     "name": "stdout",
     "output_type": "stream",
     "text": [
      "The Pearson Correlation Coefficient is 0.8393291058311985  with a P-value of P =  4.56823561325205e-46\n"
     ]
    }
   ],
   "source": [
    "# Calculate the p value of horsepower and price\n",
    "pearson_coef, p_value = stats.pearsonr(df2['Horsepower'], df2['Price'])\n",
    "print(\"The Pearson Correlation Coefficient is\", pearson_coef, \" with a P-value of P = \", p_value) "
   ]
  },
  {
   "cell_type": "code",
   "execution_count": 43,
   "metadata": {},
   "outputs": [
    {
     "data": {
      "text/html": [
       "<div>\n",
       "<style scoped>\n",
       "    .dataframe tbody tr th:only-of-type {\n",
       "        vertical-align: middle;\n",
       "    }\n",
       "\n",
       "    .dataframe tbody tr th {\n",
       "        vertical-align: top;\n",
       "    }\n",
       "\n",
       "    .dataframe thead th {\n",
       "        text-align: right;\n",
       "    }\n",
       "</style>\n",
       "<table border=\"1\" class=\"dataframe\">\n",
       "  <thead>\n",
       "    <tr style=\"text-align: right;\">\n",
       "      <th></th>\n",
       "      <th>Drive Layout</th>\n",
       "      <th>Price</th>\n",
       "    </tr>\n",
       "  </thead>\n",
       "  <tbody>\n",
       "    <tr>\n",
       "      <th>0</th>\n",
       "      <td>fwd</td>\n",
       "      <td>27900</td>\n",
       "    </tr>\n",
       "    <tr>\n",
       "      <th>1</th>\n",
       "      <td>4wd</td>\n",
       "      <td>34900</td>\n",
       "    </tr>\n",
       "    <tr>\n",
       "      <th>2</th>\n",
       "      <td>fwd</td>\n",
       "      <td>30500</td>\n",
       "    </tr>\n",
       "    <tr>\n",
       "      <th>3</th>\n",
       "      <td>fwd</td>\n",
       "      <td>35420</td>\n",
       "    </tr>\n",
       "    <tr>\n",
       "      <th>4</th>\n",
       "      <td>fwd</td>\n",
       "      <td>37840</td>\n",
       "    </tr>\n",
       "    <tr>\n",
       "      <th>5</th>\n",
       "      <td>fwd</td>\n",
       "      <td>47750</td>\n",
       "    </tr>\n",
       "    <tr>\n",
       "      <th>6</th>\n",
       "      <td>4wd</td>\n",
       "      <td>59688</td>\n",
       "    </tr>\n",
       "    <tr>\n",
       "      <th>7</th>\n",
       "      <td>rwd</td>\n",
       "      <td>32860</td>\n",
       "    </tr>\n",
       "    <tr>\n",
       "      <th>8</th>\n",
       "      <td>rwd</td>\n",
       "      <td>33850</td>\n",
       "    </tr>\n",
       "    <tr>\n",
       "      <th>9</th>\n",
       "      <td>rwd</td>\n",
       "      <td>41940</td>\n",
       "    </tr>\n",
       "    <tr>\n",
       "      <th>10</th>\n",
       "      <td>rwd</td>\n",
       "      <td>42210</td>\n",
       "    </tr>\n",
       "    <tr>\n",
       "      <th>11</th>\n",
       "      <td>rwd</td>\n",
       "      <td>49130</td>\n",
       "    </tr>\n",
       "    <tr>\n",
       "      <th>118</th>\n",
       "      <td>4wd</td>\n",
       "      <td>15796</td>\n",
       "    </tr>\n",
       "    <tr>\n",
       "      <th>119</th>\n",
       "      <td>4wd</td>\n",
       "      <td>17556</td>\n",
       "    </tr>\n",
       "  </tbody>\n",
       "</table>\n",
       "</div>"
      ],
      "text/plain": [
       "    Drive Layout  Price\n",
       "0            fwd  27900\n",
       "1            4wd  34900\n",
       "2            fwd  30500\n",
       "3            fwd  35420\n",
       "4            fwd  37840\n",
       "5            fwd  47750\n",
       "6            4wd  59688\n",
       "7            rwd  32860\n",
       "8            rwd  33850\n",
       "9            rwd  41940\n",
       "10           rwd  42210\n",
       "11           rwd  49130\n",
       "118          4wd  15796\n",
       "119          4wd  17556"
      ]
     },
     "execution_count": 43,
     "metadata": {},
     "output_type": "execute_result"
    }
   ],
   "source": [
    "# Find out if price is effected by Drive Layout\n",
    "grouped_test2=df2[['Drive Layout', 'Price']].groupby(['Drive Layout'])\n",
    "grouped_test2.head()"
   ]
  },
  {
   "cell_type": "code",
   "execution_count": 44,
   "metadata": {},
   "outputs": [
    {
     "data": {
      "text/plain": [
       "1      34900\n",
       "6      59688\n",
       "118    15796\n",
       "119    17556\n",
       "Name: Price, dtype: int64"
      ]
     },
     "execution_count": 44,
     "metadata": {},
     "output_type": "execute_result"
    }
   ],
   "source": [
    "# Group data only for 4wd\n",
    "grouped_test2.get_group('4wd')['Price']"
   ]
  },
  {
   "cell_type": "code",
   "execution_count": 45,
   "metadata": {},
   "outputs": [
    {
     "name": "stdout",
     "output_type": "stream",
     "text": [
      "ANOVA results: F= 56.588598380417665 , P = 1.823627398225676e-19\n"
     ]
    }
   ],
   "source": [
    "# Perform an ANOVA analysis to determine the F and P between Drive Layout and Price\n",
    "f_val, p_val = stats.f_oneway(grouped_test2.get_group('fwd')['Price'], grouped_test2.get_group('rwd')['Price'], grouped_test2.get_group('4wd')['Price'])  \n",
    " \n",
    "print( \"ANOVA results: F=\", f_val, \", P =\", p_val)   "
   ]
  },
  {
   "cell_type": "code",
   "execution_count": null,
   "metadata": {},
   "outputs": [],
   "source": []
  }
 ],
 "metadata": {
  "kernelspec": {
   "display_name": "Python 3",
   "language": "python",
   "name": "python3"
  },
  "language_info": {
   "codemirror_mode": {
    "name": "ipython",
    "version": 3
   },
   "file_extension": ".py",
   "mimetype": "text/x-python",
   "name": "python",
   "nbconvert_exporter": "python",
   "pygments_lexer": "ipython3",
   "version": "3.8.3"
  }
 },
 "nbformat": 4,
 "nbformat_minor": 4
}
